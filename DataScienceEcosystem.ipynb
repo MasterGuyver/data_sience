{
 "cells": [
  {
   "cell_type": "markdown",
   "id": "afb80765-c49d-4de0-8fb3-70f02e5ab832",
   "metadata": {},
   "source": [
    "# Data Science Tools and Ecosystem"
   ]
  },
  {
   "cell_type": "markdown",
   "id": "d22b8cf5-902b-41b4-8072-535801699b13",
   "metadata": {},
   "source": [
    "***In this notebook, Data Science Tools and Ecosystem are summarized.***"
   ]
  },
  {
   "cell_type": "markdown",
   "id": "f65def55-22bd-4592-baf1-9562887968c1",
   "metadata": {},
   "source": [
    "**List popular languages for Data Science.**\n",
    "\n",
    "**Objectives:**\n",
    "\n",
    "- **List popular languages for Data Science**\n",
    "- **List libraries for Data Science**\n",
    "- **Strengthen skills in working with markdown**\n",
    "- **Create Table in Markdown**\n",
    "- **List Data Science Tools**\n",
    "- **Learn how to perform Mathematical Operations in Python**"
   ]
  },
  {
   "cell_type": "markdown",
   "id": "b3177db5-15e3-400e-9c6c-a75386856236",
   "metadata": {},
   "source": [
    "Some of the popular languages that Data Scientists use are:\n",
    "1. Python\n",
    "2. R\n",
    "3. Julia\n",
    "4. Java"
   ]
  },
  {
   "cell_type": "markdown",
   "id": "86564b1f-0314-48c7-acc9-c5587441a71f",
   "metadata": {},
   "source": [
    "Some of the commonly used libraries used by Data Scientists include:\n",
    "1. NumPy\n",
    "2. Pandas\n",
    "3. Scikit-learn\n",
    "4. TensorFlow\n",
    "5. Plotly"
   ]
  },
  {
   "cell_type": "markdown",
   "id": "ddf11e4e-0264-498e-9859-914b2067f150",
   "metadata": {},
   "source": [
    "|Data Science Tools|\n",
    "|------------------|\n",
    "|Apache Spark      |\n",
    "|IBM SPSS          |\n",
    "|Jupyter Notebook  |\n",
    "|Keras             |\n",
    "|SciPy             |\n",
    "|SAS               |\n",
    "|Anaconda          |\n",
    "|IBM Watson Studio |"
   ]
  },
  {
   "cell_type": "code",
   "execution_count": 1,
   "id": "758089ad-dcc9-4c6d-8451-d6ac6f76d54e",
   "metadata": {},
   "outputs": [
    {
     "data": {
      "text/plain": [
       "17"
      ]
     },
     "execution_count": 1,
     "metadata": {},
     "output_type": "execute_result"
    }
   ],
   "source": [
    "# This a simple arithmetic expression to mutiply then add integers\n",
    "(3*4)+5"
   ]
  },
  {
   "cell_type": "code",
   "execution_count": 2,
   "id": "04653422-0d11-40f6-8d95-dfb137e9aabe",
   "metadata": {},
   "outputs": [
    {
     "data": {
      "text/plain": [
       "3.3333333333333335"
      ]
     },
     "execution_count": 2,
     "metadata": {},
     "output_type": "execute_result"
    }
   ],
   "source": [
    "# This will convert 200 minutes to hours by diving by 60\n",
    "200/60"
   ]
  },
  {
   "cell_type": "markdown",
   "id": "e6c457b2-b6cf-430e-a7d5-7049a6d4ba7c",
   "metadata": {},
   "source": [
    "## Author\n",
    "Ovskij Aleksander"
   ]
  }
 ],
 "metadata": {
  "kernelspec": {
   "display_name": "Python 3 (ipykernel)",
   "language": "python",
   "name": "python3"
  },
  "language_info": {
   "codemirror_mode": {
    "name": "ipython",
    "version": 3
   },
   "file_extension": ".py",
   "mimetype": "text/x-python",
   "name": "python",
   "nbconvert_exporter": "python",
   "pygments_lexer": "ipython3",
   "version": "3.11.9"
  }
 },
 "nbformat": 4,
 "nbformat_minor": 5
}
